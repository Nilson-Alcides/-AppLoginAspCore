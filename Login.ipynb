{
  "nbformat": 4,
  "nbformat_minor": 0,
  "metadata": {
    "colab": {
      "provenance": [],
      "mount_file_id": "1JPgX-o-pSrEFHNyAVUWSW4LGFDjsGOvu",
      "authorship_tag": "ABX9TyMZDykDHzY4wuA1d0p1cua+",
      "include_colab_link": true
    },
    "kernelspec": {
      "name": "python3",
      "display_name": "Python 3"
    },
    "language_info": {
      "name": "python"
    }
  },
  "cells": [
    {
      "cell_type": "markdown",
      "metadata": {
        "id": "view-in-github",
        "colab_type": "text"
      },
      "source": [
        "<a href=\"https://colab.research.google.com/github/Nilson-Alcides/-AppLoginAspCore/blob/main/Login.ipynb\" target=\"_parent\"><img src=\"https://colab.research.google.com/assets/colab-badge.svg\" alt=\"Open In Colab\"/></a>"
      ]
    },
    {
      "cell_type": "code",
      "execution_count": null,
      "metadata": {
        "id": "0GeEEmktjYY2"
      },
      "outputs": [],
      "source": []
    },
    {
      "cell_type": "code",
      "source": [
        "Usuarios = {\n",
        "    \"admin\": {\"senha\": \"12345a\", \"tipoUsuario\": 1},\n",
        "    \"Gabriel\": {\"senha\": \"12345c\", \"tipoUsuario\": 2},\n",
        "    \"Sarah\": {\"senha\": \"12345c\", \"tipoUsuario\": 2},\n",
        "    \"João\": {\"senha\": \"abc123\", \"tipoUsuario\": 3}\n",
        "}\n",
        "tentativas = 3\n",
        "acesso_liberado = False\n",
        "usuario_logado = \"\"\n",
        "tipo_usuario = 0\n",
        "\n",
        "while tentativas > 0:\n",
        "    usuario = input(\"Digite o usuário: \")\n",
        "    senha = input(\"Digite a senha: \")\n",
        "    if usuario in Usuarios:\n",
        "        if Usuarios[usuario][\"senha\"] == senha:\n",
        "          print(\"Login efetuado com sucesso\")\n",
        "          acesso_liberado = True\n",
        "          usuario_logado = usuario\n",
        "          tipo_usuario = Usuarios[usuario][\"tipoUsuario\"]\n",
        "          break\n",
        "        else:\n",
        "          print(\"Senha incorreta\")\n",
        "          tentativas -= 1\n",
        "          print(f\"Você ainda tem {tentativas} tentativas\")\n",
        "if acesso_liberado:\n",
        "    # Agora usamos o tipo de usuário para decidir o acesso\n",
        "    match tipo_usuario:\n",
        "        case 1:\n",
        "            print(\"Você é ADMIN e tem acesso total ao sistema.\")\n",
        "        case 2:\n",
        "            print(\"Você é um CLIENTE. Acesso limitado ao sistema.\")\n",
        "        case 3:\n",
        "            print(\"Você é um USUÁRIO COMUM. Algumas funcionalidades estão restritas.\")\n",
        "        case _:\n",
        "            print(\"Tipo de usuário desconhecido. Acesso negado.\")\n",
        "else:\n",
        "    print(\"\\n🚫 Acesso bloqueado por muitas tentativas inválidas.\")\n"
      ],
      "metadata": {
        "colab": {
          "base_uri": "https://localhost:8080/"
        },
        "id": "ZF8X1M9K0b1f",
        "outputId": "4f585bcf-e351-470a-e111-5086b8e93a9f"
      },
      "execution_count": 1,
      "outputs": [
        {
          "output_type": "stream",
          "name": "stdout",
          "text": [
            "Digite o usuário: admin\n",
            "Digite a senha: 12345a\n",
            "Login efetuado com sucesso\n",
            "🔐 Você é ADMIN e tem acesso total ao sistema.\n"
          ]
        }
      ]
    }
  ]
}